{
 "cells": [
  {
   "cell_type": "code",
   "execution_count": 23,
   "metadata": {},
   "outputs": [],
   "source": [
    "\"\"\"Jupyter Notebook for relaxation time analysis\"\"\"\n",
    "#The main analysis parts adapted from script by  H. Antila, with help from S. Ollila and T. Ferreira\n",
    "#saved in relaxation_times.py\n",
    "# Last modified by R. Nencini, 19.10.2021\n",
    "\n",
    "import sys\n",
    "import numpy as np\n",
    "from scipy import optimize\n",
    "import relaxation_times as rt\n",
    "import matplotlib.pyplot as plt\n",
    "import os\n",
    "#from numba import jit #\n",
    "\n",
    "#gyromagnetic ratios for further developmant\n",
    "# !!! NOTICE!!!\n",
    "#values taken from matlab code and projecct work and slightly different than those in Wikipedia\n",
    "#these values are also in the external file --> if change is needed; has to be changed there\n",
    "#values here in jupyter just for the information and verify, why they are different\n",
    "#!!! NOTICE END !!!\n",
    "gammaD=41.695*10**6; #r*s^(-1)*T^(-1)\n",
    "gammaH=267.513*10**6;\n",
    "gammaC=67.262*10**6;\n",
    "gammaN=-27.166*10**6;"
   ]
  },
  {
   "cell_type": "code",
   "execution_count": 24,
   "metadata": {},
   "outputs": [],
   "source": [
    "\"\"\"Parameters to be specified by the user\"\"\"\n",
    "OP=0 # order parameter\n",
    "smallest_corr_time=0 # enter in log scale -3 fs; 0 ps; 3 ns; 6 us;\n",
    "biggest_corr_time=3 # same as above\n",
    "N_exp_to_fit=100 # number of exponential functions to be fitted between the samlles and biggest corr time\n",
    "analyze=1/10 # the proportin of correlation data to be used for fitting, ex. 1/2 uses first half of the data\n",
    "magnetic_field=2.35 # 5.99 # 8.49 T (values used in SDS paper, J.Chem. Soc.,, Faraday Trans. 1, 1988, 84(12), 4475-4486)\n",
    "nuclei=\"2H\" #nuclei to calculate: 2H-deutherium; 13C - carbon; 15N - nitrogen \n",
    "\n",
    "##############3\n",
    "## CHANGE IN THE CODE 6.4.2022, not going throught the whole content of the folder anymore\n",
    "###############\n",
    "take_all_in_folder=\"number\" #\"yes\"/\"no\"/\"number\" analyze all in folder? useful for proteins, if no, fill the following line, if yes fill the folder path\n",
    "input_corr_file=\"alphaCF.xvg\"\n",
    "residues=24 # number of AA in a peptine, for take_all_in_folder=\"number\"\n",
    "input_prefix=\"\" # mostly for peptides, works with take_all_in_folder=\"no\"\n",
    "folder_path=\"cor_times/\"\n",
    "output_name=\"SDS_micelle.out\"\n",
    "author_name=\"Ricky Nencini\""
   ]
  },
  {
   "cell_type": "code",
   "execution_count": 27,
   "metadata": {},
   "outputs": [
    {
     "name": "stdout",
     "output_type": "stream",
     "text": [
      "cor_times/0.xvg\n",
      "cor_times/1.xvg\n",
      "cor_times/2.xvg\n",
      "cor_times/3.xvg\n",
      "cor_times/4.xvg\n",
      "cor_times/5.xvg\n",
      "cor_times/6.xvg\n",
      "cor_times/7.xvg\n",
      "cor_times/8.xvg\n",
      "cor_times/9.xvg\n",
      "cor_times/10.xvg\n",
      "cor_times/11.xvg\n",
      "cor_times/12.xvg\n",
      "cor_times/13.xvg\n",
      "cor_times/14.xvg\n",
      "cor_times/15.xvg\n",
      "cor_times/16.xvg\n",
      "cor_times/17.xvg\n",
      "cor_times/18.xvg\n",
      "cor_times/19.xvg\n",
      "cor_times/20.xvg\n",
      "cor_times/21.xvg\n",
      "cor_times/22.xvg\n",
      "cor_times/23.xvg\n",
      "cor_times/24.xvg\n"
     ]
    }
   ],
   "source": [
    "\"\"\"Execute the code - this part needs not be modified\"\"\"\n",
    "#rt.initilize_output(OP,smallest_corr_time, biggest_corr_time, N_exp_to_fit,analyze,magnetic_field,input_corr_file,nuclei,output_name,author_name)\n",
    "if take_all_in_folder==\"yes\":\n",
    "    for file in os.listdir(folder_path):\n",
    "        input_corr_file = folder_path+os.fsdecode(file)\n",
    "        rt.GetRelaxationData(OP,smallest_corr_time, biggest_corr_time, N_exp_to_fit,analyze,magnetic_field,input_corr_file,nuclei,output_name)\n",
    "elif take_all_in_folder==\"number\":\n",
    "    step_exp=(biggest_corr_time-smallest_corr_time)/N_exp_to_fit\n",
    "    Ctimes = 10 ** np.arange(smallest_corr_time, biggest_corr_time, step_exp)\n",
    "    Ctimes = Ctimes * 0.001 * 10 ** (-9);\n",
    "    Ctimes_to_save=np.zeros([len(Ctimes),residues])\n",
    "    Ctimes_to_save[:,0]=Ctimes\n",
    "    for i in range(0,residues+1):\n",
    "        input_corr_file = folder_path+input_prefix+str(i)+\".xvg\"\n",
    "        AA=rt.GetRelaxationData(OP,smallest_corr_time, biggest_corr_time, N_exp_to_fit,analyze,magnetic_field,input_corr_file,nuclei,output_name)\n",
    "        Ctimes_to_save[:,1]=AA.Coeffs\n",
    "else:\n",
    "    rt.GetRelaxationData(OP,smallest_corr_time, biggest_corr_time, N_exp_to_fit,analyze,magnetic_field,input_corr_file,nuclei,output_name)"
   ]
  },
  {
   "cell_type": "code",
   "execution_count": 2,
   "metadata": {},
   "outputs": [
    {
     "data": {
      "text/plain": [
       "['/home/ricky/Documents/from_work/NMR_FF_tools/relaxation_times',\n",
       " '',\n",
       " '/home/ricky/programs/amber18/lib/python2.7/site-packages',\n",
       " '/home/ricky/programs/amber18/lib/python2.7/site-packages/ParmEd-3.2.0-py2.7-linux-x86_64.egg',\n",
       " '/home/ricky/programs/amber18/lib/python2.7/site-packages/pytraj-2.0.5-py2.7-linux-x86_64.egg',\n",
       " '/home/ricky/programs/amber18/lib/python2.7/site-packages/pdb4amber-1.7.dev0-py2.7.egg',\n",
       " '/home/ricky/anaconda3/lib/python37.zip',\n",
       " '/home/ricky/anaconda3/lib/python3.7',\n",
       " '/home/ricky/anaconda3/lib/python3.7/lib-dynload',\n",
       " '/home/ricky/anaconda3/lib/python3.7/site-packages',\n",
       " '/home/ricky/anaconda3/lib/python3.7/site-packages/IPython/extensions',\n",
       " '/home/ricky/.ipython']"
      ]
     },
     "execution_count": 2,
     "metadata": {},
     "output_type": "execute_result"
    }
   ],
   "source": [
    "sys.path"
   ]
  },
  {
   "cell_type": "code",
   "execution_count": 2,
   "metadata": {},
   "outputs": [
    {
     "data": {
      "text/plain": [
       "['',\n",
       " '/home/ricky/programs/amber18/lib/python2.7/site-packages',\n",
       " '/home/ricky/programs/amber18/lib/python2.7/site-packages/ParmEd-3.2.0-py2.7-linux-x86_64.egg',\n",
       " '/home/ricky/programs/amber18/lib/python2.7/site-packages/pytraj-2.0.5-py2.7-linux-x86_64.egg',\n",
       " '/home/ricky/programs/amber18/lib/python2.7/site-packages/pdb4amber-1.7.dev0-py2.7.egg',\n",
       " '/home/ricky/anaconda3/envs/all3/lib/python36.zip',\n",
       " '/home/ricky/anaconda3/envs/all3/lib/python3.6',\n",
       " '/home/ricky/anaconda3/envs/all3/lib/python3.6/lib-dynload',\n",
       " '/home/ricky/anaconda3/envs/all3/lib/python3.6/site-packages',\n",
       " '/home/ricky/anaconda3/envs/all3/lib/python3.6/site-packages/IPython/extensions',\n",
       " '/home/ricky/.ipython']"
      ]
     },
     "execution_count": 2,
     "metadata": {},
     "output_type": "execute_result"
    }
   ],
   "source": [
    "sys.path"
   ]
  },
  {
   "cell_type": "code",
   "execution_count": 10,
   "metadata": {},
   "outputs": [
    {
     "data": {
      "text/plain": [
       "<bound method Ahoj.moi of <__main__.Ahoj object at 0x7f4d7cf21ca0>>"
      ]
     },
     "execution_count": 10,
     "metadata": {},
     "output_type": "execute_result"
    }
   ],
   "source": []
  },
  {
   "cell_type": "code",
   "execution_count": null,
   "metadata": {},
   "outputs": [],
   "source": []
  }
 ],
 "metadata": {
  "kernelspec": {
   "display_name": "all3",
   "language": "python",
   "name": "all3"
  },
  "language_info": {
   "codemirror_mode": {
    "name": "ipython",
    "version": 3
   },
   "file_extension": ".py",
   "mimetype": "text/x-python",
   "name": "python",
   "nbconvert_exporter": "python",
   "pygments_lexer": "ipython3",
   "version": "3.10.4"
  }
 },
 "nbformat": 4,
 "nbformat_minor": 2
}
