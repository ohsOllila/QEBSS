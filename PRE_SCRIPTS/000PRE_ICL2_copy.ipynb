{
 "cells": [
  {
   "cell_type": "code",
   "execution_count": 10,
   "metadata": {},
   "outputs": [],
   "source": [
    "%%bash\n",
    "exit 0\n",
    "\n",
    "\n",
    "# you can use environment.yml file to set up the environment\n",
    "mamba env create -f environment.yml\n",
    "mamba activate cg-idps\n",
    "\n"
   ]
  },
  {
   "cell_type": "code",
   "execution_count": 11,
   "metadata": {},
   "outputs": [
    {
     "name": "stdout",
     "output_type": "stream",
     "text": [
      "         resid   exp_PRE\n",
      "0   415.453039  0.497942\n",
      "1   416.513812  0.339506\n",
      "2   419.607735  0.413580\n",
      "3   420.933702  0.376543\n",
      "4   422.348066  0.251029\n",
      "..         ...       ...\n",
      "58  506.856354  0.362140\n",
      "59  510.215470  0.253086\n",
      "60  511.099448  0.660494\n",
      "61  511.895028  0.633745\n",
      "62  513.044199  0.831276\n",
      "\n",
      "[63 rows x 2 columns]\n"
     ]
    }
   ],
   "source": [
    "import pandas as pd\n",
    "\n",
    "# Load the data from the pickle file\n",
    "M1 = pd.read_pickle('ICL2.pkl')\n",
    "\n",
    "# Assuming the DataFrame M1 has the experimental PRE data\n",
    "# where column 1 is x (residue numbers) and column 2 is y (PRE values)\n",
    "# Extract x and y\n",
    "x = M1.iloc[:, 0]  # First column as x-axis\n",
    "y = M1.iloc[:, 1]  # Second column as y-axis\n",
    "\n",
    "# Combine into a new DataFrame\n",
    "df = pd.DataFrame({'resid': x, 'exp_PRE': y})\n",
    "\n",
    "# Display the processed DataFrame\n",
    "print(df)"
   ]
  },
  {
   "cell_type": "code",
   "execution_count": 12,
   "metadata": {},
   "outputs": [],
   "source": [
    "from DEERPREdict.PRE import PREpredict\n",
    "import MDAnalysis\n",
    "import pandas as pd\n",
    "\n",
    "# path to pdb+xtc\n",
    "pdb_path=\"md_2000ns_ICL2.gro\"\n",
    "dcd_path=\"shortened_traj_ICL2.xtc\"\n",
    "\n",
    "# PRE analysis of simulations using PREpredict\n",
    "# label == residue with PRE probe\n",
    "def evaluatePRE(label):\n",
    "    u = MDAnalysis.Universe(pdb_path,dcd_path)\n",
    "    PRE = PREpredict(u, label, log_file = 'file.log', temperature = 283, atom_selection = 'N', sigma_scaling = 1.0) # Cbeta=True\n",
    "    PRE.run(output_prefix = 'calcPREs/res', load_file=False, tau_t = 1e-10, tau_c = 1.0*1e-09, r_2 = 10, wh = 700)\n",
    "\n",
    "# numbers are positions of PRE probes (labels)\n",
    "evaluatePRE(24)\n",
    "\n",
    "\n"
   ]
  },
  {
   "cell_type": "code",
   "execution_count": 13,
   "metadata": {},
   "outputs": [
    {
     "name": "stdout",
     "output_type": "stream",
     "text": [
      "    residue   i_ratio   gamma_2\n",
      "0       1.0       NaN       NaN\n",
      "1       2.0  0.867329  1.372485\n",
      "2       3.0  0.938607  0.591281\n",
      "3       4.0  0.892455  1.084217\n",
      "4       5.0       NaN       NaN\n",
      "..      ...       ...       ...\n",
      "95     96.0       NaN       NaN\n",
      "96     97.0  0.645850  4.763237\n",
      "97     98.0  0.795127  2.291670\n",
      "98     99.0  0.722915  3.373958\n",
      "99    100.0  0.664435  4.402201\n",
      "\n",
      "[100 rows x 3 columns]\n",
      "0     413\n",
      "1     414\n",
      "2     415\n",
      "3     416\n",
      "4     417\n",
      "     ... \n",
      "95    508\n",
      "96    509\n",
      "97    510\n",
      "98    511\n",
      "99    512\n",
      "Name: resid, Length: 100, dtype: int64\n"
     ]
    },
    {
     "data": {
      "image/png": "[encoded data removed]",
      "text/plain": [
       "<Figure size 576x432 with 1 Axes>"
      ]
     },
     "metadata": {
      "needs_background": "light"
     },
     "output_type": "display_data"
    }
   ],
   "source": [
    "import pandas as pd\n",
    "import matplotlib.pyplot as plt\n",
    "\n",
    "# Load PRE from simulations into a DataFrame\n",
    "filename = 'calcPREs/res-24.dat'\n",
    "df_sim = pd.read_csv(\n",
    "    filename,\n",
    "    delim_whitespace=True,\n",
    "    skiprows=1,\n",
    "    names=['residue', 'i_ratio', 'gamma_2']\n",
    ")\n",
    "\n",
    "print(df_sim)\n",
    "\n",
    "# Convert residue numbers to integers and rename the column for consistency\n",
    "df_sim['residue'] = df_sim['residue'].astype(int)\n",
    "df_sim['residue'] += 412\n",
    "df_sim = df_sim.rename(columns={'residue': 'resid'})\n",
    "# Assuming `df` contains experimental PRE data\n",
    "# Map simulated data (i_ratio) to the experimental DataFrame based on residue ID\n",
    "#df[f'sim_24'] = df_sim.set_index('resid')['i_ratio']\n",
    "\n",
    "# PLOTTING PRE experimental vs simulations\n",
    "plt.rcParams.update({'font.size': 10, 'font.weight': 'bold'})\n",
    "\n",
    "title = 'ICL2_PRE'\n",
    "\n",
    "fig, ax = plt.subplots(figsize=(8, 6))  # Single subplot for one label\n",
    "\n",
    "df['exp_PRE'] = df['exp_PRE'].interpolate(method='linear')\n",
    "df_sim['i_ratio'] = df_sim['i_ratio'].interpolate(method='linear')\n",
    "# Scatter plot for experimental PRE data\n",
    "ax.scatter(\n",
    "    df['resid'], \n",
    "    df[f'exp_PRE'], \n",
    "    marker='s', \n",
    "    s=10, \n",
    "    color='black', \n",
    "    label='Experimental PRE'\n",
    ")\n",
    "\n",
    "print(df_sim['resid'])\n",
    "# Line plot for simulated PRE data\n",
    "ax.plot(\n",
    "    df_sim['resid'], \n",
    "    df_sim['i_ratio'], \n",
    "    color='red', \n",
    "    linewidth=1, \n",
    "    marker='o', \n",
    "    markersize=3, \n",
    "    label='Simulated PRE'\n",
    ")\n",
    "\n",
    "# Adding labels and title\n",
    "ax.set_xlabel('Residue Number', fontsize=14, fontweight='bold')\n",
    "ax.set_ylabel('PRE', fontsize=14, fontweight='bold')\n",
    "ax.set_title(title, fontsize=16, fontweight='bold')\n",
    "ax.legend()\n",
    "\n",
    "plt.tight_layout()\n",
    "plt.savefig(f'{title}.pdf')\n",
    "plt.show()\n",
    "\n",
    "\n"
   ]
  },
  {
   "cell_type": "code",
   "execution_count": null,
   "metadata": {},
   "outputs": [],
   "source": []
  },
  {
   "cell_type": "code",
   "execution_count": null,
   "metadata": {},
   "outputs": [],
   "source": []
  },
  {
   "cell_type": "code",
   "execution_count": null,
   "metadata": {},
   "outputs": [],
   "source": []
  }
 ],
 "metadata": {
  "kernelspec": {
   "display_name": "Python 3 (ipykernel)",
   "language": "python",
   "name": "python3"
  },
  "language_info": {
   "codemirror_mode": {
    "name": "ipython",
    "version": 3
   },
   "file_extension": ".py",
   "mimetype": "text/x-python",
   "name": "python",
   "nbconvert_exporter": "python",
   "pygments_lexer": "ipython3",
   "version": "3.10.12"
  }
 },
 "nbformat": 4,
 "nbformat_minor": 4
}
