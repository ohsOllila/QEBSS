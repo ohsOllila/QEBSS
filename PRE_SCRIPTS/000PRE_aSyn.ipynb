{
 "cells": [
  {
   "cell_type": "code",
   "execution_count": 6,
   "metadata": {},
   "outputs": [],
   "source": [
    "%%bash\n",
    "exit 0\n",
    "\n",
    "\n",
    "# you can use environment.yml file to set up the environment\n",
    "mamba env create -f environment.yml\n",
    "mamba activate cg-idps\n",
    "\n"
   ]
  },
  {
   "cell_type": "code",
   "execution_count": 7,
   "metadata": {},
   "outputs": [],
   "source": [
    "import pandas as pd\n",
    "\n",
    "# extracting experimental PRE for aSyn\n",
    "# data taken from github:\n",
    "# https://github.com/KULL-Centre/papers/tree/main/2021/CG-IDPs-Tesei-et-al/optimization/5_M1\n",
    "M1 = pd.read_pickle('optimization/5_M1/o1_init_proteins.pkl')\n",
    "# export PRE experimental data for aSyn\n",
    "data = M1.loc[\"aSyn\"].expPREs\n",
    "\n",
    "# Create DataFrame with index as residue numbers\n",
    "df = pd.DataFrame(data, index=range(1, 141))\n",
    "df = df.loc[:, df.columns.get_level_values(0) != 'error']\n",
    "df.columns = df.columns.get_level_values(1)\n",
    "# Create index column first\n",
    "df['resid'] = df.index\n",
    "# Then rename other columns\n",
    "df.columns = ['exp_24', 'exp_42', 'exp_62', 'exp_87', 'exp_103', 'resid']\n",
    "# display(df)\n",
    "# ['exp_24', 'exp_42', 'exp_62', 'exp_87', 'exp_103'] refer to the PRE label position"
   ]
  },
  {
   "cell_type": "code",
   "execution_count": null,
   "metadata": {},
   "outputs": [],
   "source": [
    "from DEERPREdict.PRE import PREpredict\n",
    "import MDAnalysis\n",
    "import pandas as pd\n",
    "\n",
    "# path to pdb+xtc\n",
    "pdb_path=\"md_2000ns_aSyn.gro\"\n",
    "dcd_path=\"shortened_traj_aSyn.xtc\"\n",
    "\n",
    "# PRE analysis of simulations using PREpredict\n",
    "# label == residue with PRE probe\n",
    "def evaluatePRE(label):\n",
    "    u = MDAnalysis.Universe(pdb_path,dcd_path)\n",
    "    PRE = PREpredict(u, label, log_file = 'file.log', temperature = 283, atom_selection = 'N', sigma_scaling = 1.0) # Cbeta=True\n",
    "    PRE.run(output_prefix = 'calcPREs/res', load_file=False, tau_t = 1e-10, tau_c = 1.0*1e-09, r_2 = 10, wh = 700)\n",
    "\n",
    "# numbers are positions of PRE probes (labels)\n",
    "evaluatePRE(24)\n",
    "evaluatePRE(42)\n",
    "evaluatePRE(62)\n",
    "evaluatePRE(87)\n",
    "evaluatePRE(103)\n",
    "\n"
   ]
  },
  {
   "cell_type": "code",
   "execution_count": null,
   "metadata": {},
   "outputs": [],
   "source": [
    "\n",
    "\n",
    "### PRE from simulations calcPREs dir to dataframe\n",
    "dfs = {}\n",
    "for label in [24, 42, 62, 87, 103]:\n",
    "   filename = f'calcPREs/res-{label}.dat'\n",
    "   dfs[label] = pd.read_csv(filename, delim_whitespace=True, skiprows=1, \n",
    "                           names=['residue', 'i_ratio', 'gamma_2'])\n",
    "\n",
    "for label in [24, 42, 62, 87, 103]:\n",
    "   dfs[label]['residue'] = dfs[label]['residue'].astype(int)\n",
    "   dfs[label] = dfs[label].rename(columns={'residue': 'resid'})\n",
    "   df.loc[df['resid'].isin(dfs[label]['resid']), f'sim_{label}'] = dfs[label].set_index('resid')['i_ratio']\n",
    "\n",
    "\n",
    "\n",
    "### PLOTTING PRE experimental vs simulations\n",
    "display(df)\n",
    "\n",
    "import matplotlib.pyplot as plt\n",
    "plt.rcParams.update({'font.size': 10, 'font.weight': 'bold'})\n",
    "\n",
    "title='aSyn_Robustelli_73us_a99SBdisp_70-73_us_analyzed'\n",
    "\n",
    "fig, axs = plt.subplots(5, 1, figsize=(8, 15))\n",
    "\n",
    "for i, label in enumerate([24, 42, 62, 87, 103]):\n",
    "   axs[i].scatter(df['resid'], df[f'exp_{label}'], marker='s', s=10, color='black')\n",
    "   axs[i].plot(df['resid'], df[f'sim_{label}'], color='red', linewidth=1, marker='o', markersize=3)\n",
    "   axs[i].set_ylabel(f'PRE {label}', fontsize=14, fontweight='bold')\n",
    "   if i == 4:\n",
    "       axs[i].set_xlabel('Residue Number', fontsize=14, fontweight='bold')\n",
    "   axs[i].set_title(title)\n",
    "\n",
    "plt.tight_layout()\n",
    "plt.savefig(f'{title}.pdf')\n",
    "plt.show()\n",
    "\n"
   ]
  },
  {
   "cell_type": "code",
   "execution_count": null,
   "metadata": {},
   "outputs": [],
   "source": []
  },
  {
   "cell_type": "code",
   "execution_count": null,
   "metadata": {},
   "outputs": [],
   "source": []
  }
 ],
 "metadata": {
  "kernelspec": {
   "display_name": "Python 3 (ipykernel)",
   "language": "python",
   "name": "python3"
  },
  "language_info": {
   "codemirror_mode": {
    "name": "ipython",
    "version": 3
   },
   "file_extension": ".py",
   "mimetype": "text/x-python",
   "name": "python",
   "nbconvert_exporter": "python",
   "pygments_lexer": "ipython3",
   "version": "3.10.12"
  }
 },
 "nbformat": 4,
 "nbformat_minor": 4
}
